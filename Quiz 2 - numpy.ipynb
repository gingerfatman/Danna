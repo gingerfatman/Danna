{
 "cells": [
  {
   "cell_type": "code",
   "execution_count": 10,
   "id": "automated-notion",
   "metadata": {},
   "outputs": [
    {
     "name": "stdout",
     "output_type": "stream",
     "text": [
      "[[2.44444444]\n",
      " [4.08080808]\n",
      " [5.35353535]]\n"
     ]
    }
   ],
   "source": [
    "import numpy as np\n",
    "\n",
    "k1 = 4\n",
    "k2 = 5\n",
    "k3 = 2\n",
    "k4 = 1\n",
    "k5 = 3\n",
    "\n",
    "w1 = 10\n",
    "w2 = 2\n",
    "w3 = 10\n",
    "\n",
    "w = np.array([[w1],[w2],[w3]])\n",
    "m = np.array([[k1+k2+k3+k5, -k3, -k5],[-k3, k3+k4, -k4], [-k5, -k4, k4+k5]])\n",
    "\n",
    "x = np.linalg.inv(m).dot(w)\n",
    "\n",
    "print(x)"
   ]
  }
 ],
 "metadata": {
  "kernelspec": {
   "display_name": "Python 3",
   "language": "python",
   "name": "python3"
  },
  "language_info": {
   "codemirror_mode": {
    "name": "ipython",
    "version": 3
   },
   "file_extension": ".py",
   "mimetype": "text/x-python",
   "name": "python",
   "nbconvert_exporter": "python",
   "pygments_lexer": "ipython3",
   "version": "3.8.7"
  }
 },
 "nbformat": 4,
 "nbformat_minor": 5
}
