{
 "cells": [
  {
   "cell_type": "code",
   "execution_count": 32,
   "id": "vulnerable-satin",
   "metadata": {
    "scrolled": true
   },
   "outputs": [
    {
     "name": "stdout",
     "output_type": "stream",
     "text": [
      "Jackie 91.2\n",
      "Mike 81.6\n",
      "Jen 85.6\n",
      "Chris 84.6\n"
     ]
    }
   ],
   "source": [
    "scores = [\n",
    "    'Jackie: 88 94 78 96 100',\n",
    "    'Mike: 75 78 91 80 84',\n",
    "    'Jen: 81 72 87 93 95',\n",
    "    'Chris: 94 70 83 86 90']\n",
    "\n",
    "for i in range(len(scores)):\n",
    "    name = scores[i].split(':')[0]\n",
    "    scorelist = scores[i].split(':')[1]\n",
    "    score = scorelist.split()\n",
    "    for k in range(0, len(score)): \n",
    "        score[k] = int(score[k]) \n",
    "    \n",
    "    average = sum(score) / len(score)\n",
    "    print (name, average)\n",
    "  \n",
    "    \n",
    "    "
   ]
  },
  {
   "cell_type": "code",
   "execution_count": null,
   "id": "level-talent",
   "metadata": {},
   "outputs": [],
   "source": []
  },
  {
   "cell_type": "code",
   "execution_count": null,
   "id": "indie-answer",
   "metadata": {},
   "outputs": [],
   "source": []
  },
  {
   "cell_type": "code",
   "execution_count": null,
   "id": "decent-native",
   "metadata": {},
   "outputs": [],
   "source": []
  }
 ],
 "metadata": {
  "kernelspec": {
   "display_name": "Python 3",
   "language": "python",
   "name": "python3"
  },
  "language_info": {
   "codemirror_mode": {
    "name": "ipython",
    "version": 3
   },
   "file_extension": ".py",
   "mimetype": "text/x-python",
   "name": "python",
   "nbconvert_exporter": "python",
   "pygments_lexer": "ipython3",
   "version": "3.8.7"
  }
 },
 "nbformat": 4,
 "nbformat_minor": 5
}
